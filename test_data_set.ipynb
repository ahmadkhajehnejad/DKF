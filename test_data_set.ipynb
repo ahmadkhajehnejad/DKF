{
 "cells": [
  {
   "cell_type": "code",
   "execution_count": 1,
   "metadata": {
    "collapsed": true
   },
   "outputs": [],
   "source": [
    "import numpy as np\n",
    "import os\n",
    "from pykalman import KalmanFilter\n",
    "from KF_params_MLE import tune_KF_params_MLE"
   ]
  },
  {
   "cell_type": "code",
   "execution_count": 2,
   "metadata": {
    "collapsed": true
   },
   "outputs": [],
   "source": [
    "T_train = 1000\n",
    "T_test = 1000\n",
    "\n",
    "with open('data.txt') as f:\n",
    "    first = f.readline()\n",
    "    first = first.strip('\\n')\n",
    "    temp = first.split(' ')\n",
    "    T = int(temp[0])\n",
    "    o_dim = int(temp[1])\n",
    "    s_dim = int(temp[2])\n",
    "    o_matrix = np.zeros((T, o_dim), np.float32)\n",
    "    for i in range(T):\n",
    "        temp = f.readline().strip('\\n').split(' ')\n",
    "        for j in range(s_dim):\n",
    "            o_matrix[i,j] = float(temp[j])\n",
    "    s_matrix = np.zeros((T, s_dim), np.float32)\n",
    "    for i in range(T):\n",
    "        temp = f.readline().strip('\\n').split(' ')\n",
    "        for j in range(o_dim):\n",
    "            s_matrix[i,j] = float(temp[j])"
   ]
  },
  {
   "cell_type": "code",
   "execution_count": 3,
   "metadata": {
    "collapsed": true
   },
   "outputs": [],
   "source": [
    "T_train = 1000\n",
    "train_data = np.zeros((T_train, 3*s_dim), np.float32)\n",
    "for i in range(T_train):\n",
    "    train_data[i, :] = np.concatenate((s_matrix[i, :], s_matrix[i+1, :], o_matrix[i+1, :]), axis=0)\n",
    "    \n",
    "T_test = 1000\n",
    "test_data = np.zeros((T_test, 3*s_dim), np.float32)\n",
    "for i in range(T_test):\n",
    "    test_data[i, :] = np.concatenate((s_matrix[T_train + i, :], s_matrix[T_train + 1 + i, :], o_matrix[T_train + 1 + i, :]),0)"
   ]
  },
  {
   "cell_type": "code",
   "execution_count": 4,
   "metadata": {
    "collapsed": false
   },
   "outputs": [
    {
     "name": "stdout",
     "output_type": "stream",
     "text": [
      "1.97230050789 / 157.143\n",
      "mean consecutive diff: 2.92586\n"
     ]
    }
   ],
   "source": [
    "A_2, b_2, Sig_2, A_3, b_3, Sig_3 = tune_KF_params_MLE(train_data[:,:s_dim],\\\n",
    "                                                 train_data[:,s_dim:2*s_dim], train_data[:,2*s_dim:3*s_dim])\n",
    "kf_orig = KalmanFilter(\\\n",
    "                       initial_state_mean =\\\n",
    "                           np.matmul(A_2, np.transpose(test_data[0,:s_dim])) + b_2.reshape(-1),\\\n",
    "                       initial_state_covariance = Sig_2,\\\n",
    "                       transition_matrices = A_2, \\\n",
    "                       transition_covariance = Sig_2, \\\n",
    "                       transition_offsets = np.transpose(b_2.reshape(-1)),\\\n",
    "                       observation_matrices = A_3,\\\n",
    "                       observation_covariance = Sig_3,\\\n",
    "                       observation_offsets = np.transpose(b_3.reshape(-1))\\\n",
    "                      )\n",
    "measurements = test_data[:,2*s_dim:]\n",
    "(est_s_t_onOrig, _) = kf_orig.filter(measurements)\n",
    "print(np.mean(np.linalg.norm(est_s_t_onOrig - test_data[:, s_dim : 2*s_dim] , axis = 1)), end = '')\n",
    "print(' / ', end = '')\n",
    "print(np.mean(np.linalg.norm(test_data[:, s_dim : 2*s_dim], axis = 1)))\n",
    "print('mean consecutive diff: ', end='')\n",
    "print(np.mean(np.linalg.norm(test_data[1:, s_dim : 2*s_dim] - test_data[:-1, s_dim : 2*s_dim], axis = 1)))"
   ]
  },
  {
   "cell_type": "code",
   "execution_count": 5,
   "metadata": {
    "collapsed": false
   },
   "outputs": [],
   "source": [
    "with open('axiliary.txt') as f:\n",
    "    first = f.readline()\n",
    "    first = first.strip('\\n')\n",
    "    temp = first.split(' ')\n",
    "    T = int(temp[0])\n",
    "    o_p_dim = int(temp[1])\n",
    "    s_p_dim = int(temp[2])\n",
    "    o_p_matrix = np.zeros((T, o_p_dim), np.float32)\n",
    "    for i in range(T):\n",
    "        temp = f.readline().strip('\\n').split(' ')\n",
    "        for j in range(s_p_dim):\n",
    "            o_p_matrix[i,j] = float(temp[j])\n",
    "    s_p_matrix = np.zeros((T, s_p_dim), np.float32)\n",
    "    for i in range(T):\n",
    "        temp = f.readline().strip('\\n').split(' ')\n",
    "        for j in range(o_p_dim):\n",
    "            s_p_matrix[i,j] = float(temp[j])"
   ]
  },
  {
   "cell_type": "code",
   "execution_count": 6,
   "metadata": {
    "collapsed": true
   },
   "outputs": [],
   "source": [
    "\n",
    "hidden_train_data = np.zeros((T_train, 3*s_p_dim), np.float32)\n",
    "for i in range(T_train):\n",
    "    hidden_train_data[i, :] = np.concatenate((s_p_matrix[i, :], s_p_matrix[i+1, :], o_p_matrix[i+1, :]), axis=0)\n",
    "    \n",
    "\n",
    "hidden_test_data = np.zeros((T_test, 3*s_p_dim), np.float32)\n",
    "for i in range(T_test):\n",
    "    hidden_test_data[i, :] = np.concatenate((s_p_matrix[T_train + i, :], s_p_matrix[T_train + 1 + i, :], o_p_matrix[T_train + 1 + i, :]),0)"
   ]
  },
  {
   "cell_type": "code",
   "execution_count": 7,
   "metadata": {
    "collapsed": false
   },
   "outputs": [
    {
     "name": "stdout",
     "output_type": "stream",
     "text": [
      "0.584746824366 / 81.383\n",
      "mean consecutive diff: 1.01887\n"
     ]
    }
   ],
   "source": [
    "A_2, b_2, Sig_2, A_3, b_3, Sig_3 = tune_KF_params_MLE(s_p_matrix[:T_train,:s_p_dim],\\\n",
    "                                                      hidden_train_data[:,s_p_dim:2*s_p_dim],\\\n",
    "                                                      hidden_train_data[:,2*s_p_dim:3*s_p_dim])\n",
    "kf_hidden = KalmanFilter(\\\n",
    "                         initial_state_mean =\\\n",
    "                            np.matmul(A_2, np.transpose(hidden_test_data[0,:s_p_dim])) + b_2.reshape(-1),\\\n",
    "                         initial_state_covariance = Sig_2,\\\n",
    "                         transition_matrices = A_2, \\\n",
    "                         transition_covariance = Sig_2, \\\n",
    "                         transition_offsets = np.transpose(b_2.reshape(-1)),\\\n",
    "                         observation_matrices = A_3,\\\n",
    "                         observation_covariance = Sig_3,\\\n",
    "                         observation_offsets = np.transpose(b_3.reshape(-1))\\\n",
    "                      )\n",
    "measurements = hidden_test_data[:,2*s_p_dim:]\n",
    "(est_s_t_p, _) = kf_hidden.filter(measurements)\n",
    "print(np.mean(np.linalg.norm(est_s_t_p - hidden_test_data[:, s_p_dim : 2*s_p_dim] , axis = 1)), end = '')\n",
    "print(' / ', end = '')\n",
    "print(np.mean(np.linalg.norm(hidden_test_data[:, s_p_dim : 2*s_p_dim], axis = 1)))\n",
    "print('mean consecutive diff: ', end='')\n",
    "print(np.mean(np.linalg.norm(hidden_test_data[1:, s_p_dim : 2*s_p_dim] -\\\n",
    "                             hidden_test_data[:-1, s_p_dim : 2*s_p_dim], axis = 1)))"
   ]
  },
  {
   "cell_type": "code",
   "execution_count": 8,
   "metadata": {
    "collapsed": false
   },
   "outputs": [],
   "source": [
    "with open('params.txt') as f:\n",
    "    ln = f.readline()\n",
    "    ln = f.readline()\n",
    "    for i in range(s_p_dim):\n",
    "        ln = f.readline()\n",
    "    for i in range(s_p_dim):\n",
    "        ln = f.readline()\n",
    "    for i in range(o_p_dim):\n",
    "        ln = f.readline()\n",
    "    for i in range(s_p_dim):\n",
    "        ln = f.readline()\n",
    "    for i in range(o_p_dim):\n",
    "        ln = f.readline()\n",
    "    for i in range(o_dim):\n",
    "        ln = f.readline()\n",
    "    for i in range(o_dim):\n",
    "        ln = f.readline()\n",
    "    for i in range(o_dim):\n",
    "        ln = f.readline()\n",
    "    D1 = np.zeros((s_dim, s_p_dim), np.float32)\n",
    "    for i in range(s_dim):\n",
    "        temp = f.readline().strip('\\n').split(' ')\n",
    "        for j in range(s_p_dim):\n",
    "            D1[i,j] = float(temp[j])        "
   ]
  },
  {
   "cell_type": "code",
   "execution_count": 9,
   "metadata": {
    "collapsed": false
   },
   "outputs": [
    {
     "name": "stdout",
     "output_type": "stream",
     "text": [
      "1.79577745463 / 157.143\n",
      "mean consecutive diff: 2.92586\n"
     ]
    }
   ],
   "source": [
    "est_s_t_onHidden = 20 * np.tanh(np.matmul(est_s_t_p /20 , np.transpose(D1)))\n",
    "print(np.mean(np.linalg.norm(est_s_t_onHidden - test_data[:, s_dim : 2*s_dim] , axis = 1)), end = '')\n",
    "print(' / ', end = '')\n",
    "print(np.mean(np.linalg.norm(test_data[:, s_dim : 2*s_dim], axis = 1)))\n",
    "print('mean consecutive diff: ', end='')\n",
    "print(np.mean(np.linalg.norm(test_data[1:, s_dim : 2*s_dim] -\\\n",
    "                             test_data[:-1, s_dim : 2*s_dim], axis = 1)))"
   ]
  },
  {
   "cell_type": "code",
   "execution_count": 10,
   "metadata": {
    "collapsed": false
   },
   "outputs": [
    {
     "name": "stdout",
     "output_type": "stream",
     "text": [
      "1.52566e-05\n"
     ]
    }
   ],
   "source": [
    "validate_est_s_t_onHidden = 20 * np.tanh(np.matmul(hidden_test_data[:,s_p_dim:2*s_p_dim] /20 , np.transpose(D1)))\n",
    "print(np.mean(np.linalg.norm(validate_est_s_t_onHidden - test_data[:, s_dim : 2*s_dim] , axis = 1)))"
   ]
  }
 ],
 "metadata": {
  "kernelspec": {
   "display_name": "Python 3",
   "language": "python",
   "name": "python3"
  },
  "language_info": {
   "codemirror_mode": {
    "name": "ipython",
    "version": 3
   },
   "file_extension": ".py",
   "mimetype": "text/x-python",
   "name": "python",
   "nbconvert_exporter": "python",
   "pygments_lexer": "ipython3",
   "version": "3.5.2"
  }
 },
 "nbformat": 4,
 "nbformat_minor": 1
}
